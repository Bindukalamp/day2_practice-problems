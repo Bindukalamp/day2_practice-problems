{
  "nbformat": 4,
  "nbformat_minor": 0,
  "metadata": {
    "colab": {
      "provenance": []
    },
    "kernelspec": {
      "name": "python3",
      "display_name": "Python 3"
    },
    "language_info": {
      "name": "python"
    }
  },
  "cells": [
    {
      "cell_type": "markdown",
      "source": [
        "1.Write a program to find sum of all elements in a list of integers."
      ],
      "metadata": {
        "id": "H-MdJQITwrgq"
      }
    },
    {
      "cell_type": "code",
      "source": [
        "listp=[5,10,15,20,25,30]\n",
        "total=sum(listp)\n",
        "print(\"The sum of all elements in the list is\",total)"
      ],
      "metadata": {
        "colab": {
          "base_uri": "https://localhost:8080/"
        },
        "id": "viNKOFv2lZJf",
        "outputId": "9d26d6e1-0c4b-43d2-fa1e-c7099103c523"
      },
      "execution_count": null,
      "outputs": [
        {
          "output_type": "stream",
          "name": "stdout",
          "text": [
            "The sum of all elements in the list is 105\n"
          ]
        }
      ]
    },
    {
      "cell_type": "markdown",
      "source": [
        "2.Input a sentence as a string.\n",
        "a)\n",
        "Print its length\n",
        "b)\n",
        "Print the first half of string"
      ],
      "metadata": {
        "id": "UKpKBC3Ow1fr"
      }
    },
    {
      "cell_type": "code",
      "source": [
        "a=\"I am Bindu\"\n",
        "print (\" a) The lenght of string is\", len(a))\n",
        "print (' b) The first half of string is :', a[0:5])"
      ],
      "metadata": {
        "colab": {
          "base_uri": "https://localhost:8080/"
        },
        "id": "RNL5fGuBxXc_",
        "outputId": "36f9d446-9491-4e2b-c943-b8181faa794f"
      },
      "execution_count": null,
      "outputs": [
        {
          "output_type": "stream",
          "name": "stdout",
          "text": [
            " a) The lenght of string is 10\n",
            " b) The first half of string is : I am \n"
          ]
        }
      ]
    },
    {
      "cell_type": "markdown",
      "source": [
        "3.Write a program to enter a tuple of integers as (78,45,32,19,82,77,40,39). Change the third value in the tuple to 100"
      ],
      "metadata": {
        "id": "6_1cx-uBw717"
      }
    },
    {
      "cell_type": "code",
      "source": [
        "# Tuple is unchangable or immutable\n",
        "# To change the value of a tuple, first convert it to list\n",
        "# change the value in the list\n",
        "#convert list back to tuple\n",
        "p=(78,45,32,19,82,77,40,39)\n",
        "lis=list(p) # converting tuple to list"
      ],
      "metadata": {
        "id": "Cn0-Hk1lxiTg"
      },
      "execution_count": null,
      "outputs": []
    },
    {
      "cell_type": "code",
      "source": [
        "lis[2]=100 #changing the third value of list to 100\n"
      ],
      "metadata": {
        "id": "2RWPvaXoyNoA"
      },
      "execution_count": null,
      "outputs": []
    },
    {
      "cell_type": "code",
      "source": [
        "\n",
        "u=tuple(lis) # converting list back to tuple\n",
        "print(\"The tuple after changing third value to 100 is\",u)"
      ],
      "metadata": {
        "colab": {
          "base_uri": "https://localhost:8080/"
        },
        "id": "4vZaZmTayddQ",
        "outputId": "c846c11f-f7c2-4097-e7e3-ef5af5f7b750"
      },
      "execution_count": null,
      "outputs": [
        {
          "output_type": "stream",
          "name": "stdout",
          "text": [
            "The tuple after changing third value to 100 is (78, 45, 32, 19, 82, 77, 40, 39)\n"
          ]
        }
      ]
    },
    {
      "cell_type": "markdown",
      "source": [
        "4.Consider a list listA=[19,32,10,55,31,32,94,29,10,65,77,40,40]\n",
        "\n",
        "(a)Delete the first occurrence of 32\n",
        "\n",
        "(b)Delete all occurrences of 40\n",
        "\n",
        "(c)Delete the value at index=5\n",
        "\n",
        "(d)Modify the value at index=9 as 300\n",
        "\n",
        "(e)Add 200 at index=2\n",
        "\n",
        "(f)Print the final list with its length, maximum value and sum of all elements"
      ],
      "metadata": {
        "id": "sD6A9SlHxCVO"
      }
    },
    {
      "cell_type": "code",
      "source": [
        " listA = [19,32,10,55,31,32,94,29,10,65,77,40,40]\n"
      ],
      "metadata": {
        "id": "8uLm8EMizF2u"
      },
      "execution_count": null,
      "outputs": []
    },
    {
      "cell_type": "markdown",
      "source": [
        "a)Delete the first occurrence of 32"
      ],
      "metadata": {
        "id": "sCWKmYa41g7C"
      }
    },
    {
      "cell_type": "code",
      "source": [
        "listA.remove(32)\n",
        "print (listA)"
      ],
      "metadata": {
        "colab": {
          "base_uri": "https://localhost:8080/"
        },
        "id": "jwWz4Suj0-tW",
        "outputId": "ca3cd2a5-b48b-4948-befe-5bf48d3e8a86"
      },
      "execution_count": null,
      "outputs": [
        {
          "output_type": "stream",
          "name": "stdout",
          "text": [
            "[19, 10, 55, 31, 32, 94, 29, 10, 65, 77, 40, 40]\n"
          ]
        }
      ]
    },
    {
      "cell_type": "markdown",
      "source": [
        "b) Delete all occurrences of 40"
      ],
      "metadata": {
        "id": "g7hXsDbe3uok"
      }
    },
    {
      "cell_type": "code",
      "source": [
        "\n",
        "while listA.count(40)>0:\n",
        "  listA.remove(40)\n",
        "  print(listA)\n",
        "\n"
      ],
      "metadata": {
        "colab": {
          "base_uri": "https://localhost:8080/"
        },
        "id": "egTLnonR1quV",
        "outputId": "50a30b7f-58d6-47bb-907c-44fe03eed635"
      },
      "execution_count": null,
      "outputs": [
        {
          "output_type": "stream",
          "name": "stdout",
          "text": [
            "[19, 10, 55, 31, 32, 94, 29, 10, 65, 77, 40]\n",
            "[19, 10, 55, 31, 32, 94, 29, 10, 65, 77]\n"
          ]
        }
      ]
    },
    {
      "cell_type": "markdown",
      "source": [
        "c)Delete the value at index=5"
      ],
      "metadata": {
        "id": "AOcsk6rx37Ad"
      }
    },
    {
      "cell_type": "code",
      "source": [
        "listA=[19, 10, 55, 31, 32, 94, 29, 10, 65, 77]\n",
        "del listA[5]\n",
        "print(listA)"
      ],
      "metadata": {
        "colab": {
          "base_uri": "https://localhost:8080/"
        },
        "id": "vl7nXEUI4E10",
        "outputId": "73fdda76-e514-4138-f641-331f9c6df8ec"
      },
      "execution_count": null,
      "outputs": [
        {
          "output_type": "stream",
          "name": "stdout",
          "text": [
            "[19, 10, 55, 31, 32, 29, 10, 65, 77]\n"
          ]
        }
      ]
    },
    {
      "cell_type": "markdown",
      "source": [
        "d) Modify the value at index=9 as 300"
      ],
      "metadata": {
        "id": "OZoTqm2e6Bb0"
      }
    },
    {
      "cell_type": "code",
      "source": [
        " listA= [19,32,10,55,31,32,94,29,10,65,77,40,40] #since the above list doesnt have index 9,list in the question is considered\n",
        "\n",
        " listA[9]=300\n",
        " print(listA)"
      ],
      "metadata": {
        "colab": {
          "base_uri": "https://localhost:8080/"
        },
        "id": "uvMyGOrj45BU",
        "outputId": "ec6ae991-00f8-4299-9173-85d82613b1b6"
      },
      "execution_count": null,
      "outputs": [
        {
          "output_type": "stream",
          "name": "stdout",
          "text": [
            "[19, 32, 10, 55, 31, 32, 94, 29, 10, 300, 77, 40, 40]\n"
          ]
        }
      ]
    },
    {
      "cell_type": "markdown",
      "source": [
        "e) Add 200 at index=2"
      ],
      "metadata": {
        "id": "3DA5YIvC9Swa"
      }
    },
    {
      "cell_type": "code",
      "source": [
        "listA=[19, 10, 55, 31, 32, 29, 10, 65, 77]\n",
        "listA.insert(2,200)\n",
        "print(listA)"
      ],
      "metadata": {
        "colab": {
          "base_uri": "https://localhost:8080/"
        },
        "id": "5AJXrjIrept-",
        "outputId": "767f47f1-cd32-4c89-cac3-91ac6b25d9df"
      },
      "execution_count": null,
      "outputs": [
        {
          "output_type": "stream",
          "name": "stdout",
          "text": [
            "[19, 10, 200, 55, 31, 32, 29, 10, 65, 77]\n"
          ]
        }
      ]
    },
    {
      "cell_type": "markdown",
      "source": [
        "f) Print the final list with its length, maximum value and sum of all elements"
      ],
      "metadata": {
        "id": "W0fxnD3IfaUv"
      }
    },
    {
      "cell_type": "code",
      "source": [
        "listA=[19, 10, 200, 55, 31, 32, 29, 10, 65, 77]\n",
        "\n",
        "print ('The length of the final list is',len(listA))\n",
        "\n",
        "listA.sort()\n",
        "print(\"The maximum value in the list is\",listA[9])\n",
        "total=sum(listA)\n",
        "print('the sum of all elements in the list is', total)\n"
      ],
      "metadata": {
        "colab": {
          "base_uri": "https://localhost:8080/"
        },
        "id": "HU0rotvpfdle",
        "outputId": "4c78ab0e-a1c9-43b4-9bcb-3288dd9e65e3"
      },
      "execution_count": null,
      "outputs": [
        {
          "output_type": "stream",
          "name": "stdout",
          "text": [
            "The length of the final list is 10\n",
            "The maximum value in the list is 200\n",
            "the sum of all elements in the list is 528\n"
          ]
        }
      ]
    },
    {
      "cell_type": "markdown",
      "source": [
        "5.Consider a string ”The day has been long”.\n",
        "(a)Delete the value at index =4\n",
        "\n",
        "\n",
        "(b)Print the string 4 times in a single line with space between each repetition\n",
        "\n",
        "\n",
        "(c)Print the string 3 times in a new line each time\n",
        "\n",
        "\n",
        "(d)Modify the string at index 7 as ’A’\n",
        "\n",
        "(e)Print the string from index 4 to 15\n",
        "\n",
        "\n",
        "(f)Print the final string with its length"
      ],
      "metadata": {
        "id": "eow3Fg8cp8F4"
      }
    },
    {
      "cell_type": "code",
      "source": [
        "t= 'The day has been long'\n",
        "\n",
        "print(t[4])"
      ],
      "metadata": {
        "colab": {
          "base_uri": "https://localhost:8080/"
        },
        "id": "FnJEGY-VqFkJ",
        "outputId": "68288f93-d94c-4008-9575-ef5c96168197"
      },
      "execution_count": null,
      "outputs": [
        {
          "output_type": "stream",
          "name": "stdout",
          "text": [
            "d\n"
          ]
        }
      ]
    },
    {
      "cell_type": "code",
      "source": [
        "print(t.replace('d',''))"
      ],
      "metadata": {
        "colab": {
          "base_uri": "https://localhost:8080/"
        },
        "id": "QOJbm9LsH2ED",
        "outputId": "28c511e3-ed26-451b-8008-4d65c877ab06"
      },
      "execution_count": null,
      "outputs": [
        {
          "output_type": "stream",
          "name": "stdout",
          "text": [
            "The ay has been long\n"
          ]
        }
      ]
    },
    {
      "cell_type": "markdown",
      "source": [
        "b) Print the string 4 times in a single line with space between each repetition"
      ],
      "metadata": {
        "id": "GbOsVrRjs5Hn"
      }
    },
    {
      "cell_type": "code",
      "source": [
        "\n",
        " t= 'The day has been long   '\n",
        " print(t*4 )"
      ],
      "metadata": {
        "colab": {
          "base_uri": "https://localhost:8080/"
        },
        "id": "Fvqh3m1RtBDw",
        "outputId": "b16255a8-29a1-4a40-9006-5982b0318b14"
      },
      "execution_count": null,
      "outputs": [
        {
          "output_type": "stream",
          "name": "stdout",
          "text": [
            "The day has been long   The day has been long   The day has been long   The day has been long   \n"
          ]
        }
      ]
    },
    {
      "cell_type": "markdown",
      "source": [
        "c)Print the string 3 times in a new line each time"
      ],
      "metadata": {
        "id": "-gSq8YLG26z5"
      }
    },
    {
      "cell_type": "code",
      "source": [
        "'The day has been long'\n",
        "print('The day has been long\\n'*3)"
      ],
      "metadata": {
        "colab": {
          "base_uri": "https://localhost:8080/"
        },
        "id": "h3B7cQuf3BwB",
        "outputId": "e5f79acd-dc91-4db2-85f5-18f4750f201b"
      },
      "execution_count": null,
      "outputs": [
        {
          "output_type": "stream",
          "name": "stdout",
          "text": [
            "The day has been long\n",
            "The day has been long\n",
            "The day has been long\n",
            "\n"
          ]
        }
      ]
    },
    {
      "cell_type": "markdown",
      "source": [
        "d) Modify the string at index 7 as ’A’"
      ],
      "metadata": {
        "id": "0owXq1YC4fbH"
      }
    },
    {
      "cell_type": "code",
      "source": [
        "\n",
        "\n",
        "list1=list('The day has been long') #converting string to list\n",
        "print(list1)\n",
        "list1[7]='A' #replacing index7 with \"A\"\n",
        "print(list1)\n",
        "y=''.join(list1) #converting back to string\n",
        "print(y)"
      ],
      "metadata": {
        "colab": {
          "base_uri": "https://localhost:8080/"
        },
        "id": "8vBPsgah4ooB",
        "outputId": "f6f591ba-0d0b-4c1b-deeb-62a7abe4cf2b"
      },
      "execution_count": null,
      "outputs": [
        {
          "output_type": "stream",
          "name": "stdout",
          "text": [
            "['T', 'h', 'e', ' ', 'd', 'a', 'y', ' ', 'h', 'a', 's', ' ', 'b', 'e', 'e', 'n', ' ', 'l', 'o', 'n', 'g']\n",
            "['T', 'h', 'e', ' ', 'd', 'a', 'y', 'A', 'h', 'a', 's', ' ', 'b', 'e', 'e', 'n', ' ', 'l', 'o', 'n', 'g']\n",
            "The dayAhas been long\n"
          ]
        }
      ]
    },
    {
      "cell_type": "markdown",
      "source": [
        "e) Print the string from index 4 to 15"
      ],
      "metadata": {
        "id": "2bFONnWjPObI"
      }
    },
    {
      "cell_type": "code",
      "source": [
        "w='The day has been long'\n",
        "print(w[4:16])"
      ],
      "metadata": {
        "colab": {
          "base_uri": "https://localhost:8080/"
        },
        "id": "hpYMvxtEPoQs",
        "outputId": "17acc814-20aa-4367-ccff-ffe4bb017980"
      },
      "execution_count": null,
      "outputs": [
        {
          "output_type": "stream",
          "name": "stdout",
          "text": [
            "day has been\n"
          ]
        }
      ]
    },
    {
      "cell_type": "markdown",
      "source": [
        "f) Print the final string with its length"
      ],
      "metadata": {
        "id": "bqAVfIxiQZg1"
      }
    },
    {
      "cell_type": "code",
      "source": [
        "print('The final string is: ', w)\n",
        "print(len(w))"
      ],
      "metadata": {
        "colab": {
          "base_uri": "https://localhost:8080/"
        },
        "id": "bZ7trgJXQfxj",
        "outputId": "0c8fe2a0-930b-4cba-b976-2a8a4496c8fe"
      },
      "execution_count": null,
      "outputs": [
        {
          "output_type": "stream",
          "name": "stdout",
          "text": [
            "The final string is:  The day has been long\n",
            "21\n"
          ]
        }
      ]
    }
  ]
}